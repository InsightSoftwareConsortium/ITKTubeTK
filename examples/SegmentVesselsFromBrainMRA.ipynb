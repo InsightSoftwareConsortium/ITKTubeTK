{
 "cells": [
  {
   "cell_type": "markdown",
   "metadata": {},
   "source": [
    "This notebook is intended to demonstrate how vessel segmentation methods of ITKTubeTK can be applied to multi-channel MRI (MRA + T1, T2, etc)."
   ]
  },
  {
   "cell_type": "code",
   "execution_count": 18,
   "metadata": {},
   "outputs": [],
   "source": [
    "import itk\n",
    "from itk import TubeTK as ttk\n",
    "\n",
    "from itkwidgets import view\n",
    "\n",
    "import numpy as np"
   ]
  },
  {
   "cell_type": "code",
   "execution_count": 19,
   "metadata": {},
   "outputs": [],
   "source": [
    "ImageType = itk.Image[itk.F, 3]\n",
    "\n",
    "im1 = itk.imread(\"data/mra.mha\",itk.F)"
   ]
  },
  {
   "cell_type": "code",
   "execution_count": 20,
   "metadata": {},
   "outputs": [],
   "source": [
    "res = ttk.ResampleImage[ImageType].New()\n",
    "res.SetInput(im1)\n",
    "res.SetMakeHighResIso(True)\n",
    "res.Update()\n",
    "im1iso = res.GetOutput()"
   ]
  },
  {
   "cell_type": "code",
   "execution_count": 27,
   "metadata": {},
   "outputs": [],
   "source": [
    "xp1=[-3.9,-54.8,12.3]\n",
    "xp2=[18.4,-16,-21]\n",
    "xp3=[-46,-15,-13]\n",
    "\n",
    "vSeg = ttk.SegmentTubes[ImageType].New()\n",
    "vSeg.SetInput(im1iso)\n",
    "vSeg.SetVerbose(False)\n",
    "vSeg.SetRadiusInObjectSpace( 0.33 )\n",
    "vSeg.SetMinRoundness(0.2)\n",
    "vSeg.SetVerbose(True)\n",
    "tube = vSeg.ExtractTubeInObjectSpace( xp1, 1 )\n",
    "tube = vSeg.ExtractTubeInObjectSpace( xp2, 2 )\n",
    "tube = vSeg.ExtractTubeInObjectSpace( xp3, 3 )\n",
    "tubeG = vSeg.GetTubeGroup()"
   ]
  },
  {
   "cell_type": "code",
   "execution_count": 28,
   "metadata": {},
   "outputs": [],
   "source": [
    "# Example of accessing data in a tube\n",
    "p = list(map(lambda x: tube.GetPoint(x).GetPositionInObjectSpace(), range(tube.GetNumberOfPoints())))\n",
    "r = list(map(lambda x: tube.GetPoint(x).GetRadiusInObjectSpace(), range(tube.GetNumberOfPoints())))"
   ]
  },
  {
   "cell_type": "code",
   "execution_count": 29,
   "metadata": {},
   "outputs": [
    {
     "data": {
      "application/vnd.jupyter.widget-view+json": {
       "model_id": "dbc8923e8df24d78b5a3b5a42acae525",
       "version_major": 2,
       "version_minor": 0
      },
      "text/plain": [
       "Viewer(geometries=[], gradient_opacity=0.22, point_sets=[], rendered_image=<itkImagePython.itkImageF3; proxy o…"
      ]
     },
     "metadata": {},
     "output_type": "display_data"
    }
   ],
   "source": [
    "TubesToImageFilterType = ttk.ConvertTubesToImage[ImageType]\n",
    "tubesToImageFilter = TubesToImageFilterType.New()\n",
    "tubesToImageFilter.SetUseRadius(True)\n",
    "tubesToImageFilter.SetTemplateImage(im1)\n",
    "tubesToImageFilter.SetInput(tubeG)\n",
    "tubesToImageFilter.Update()\n",
    "\n",
    "outputImage = tubesToImageFilter.GetOutput()\n",
    "view(outputImage)"
   ]
  },
  {
   "cell_type": "code",
   "execution_count": 30,
   "metadata": {
    "scrolled": true
   },
   "outputs": [
    {
     "data": {
      "application/vnd.jupyter.widget-view+json": {
       "model_id": "54b5c6dba79841feafe5efb15e770310",
       "version_major": 2,
       "version_minor": 0
      },
      "text/plain": [
       "Viewer(geometries=[], gradient_opacity=0.22, point_sets=[], rendered_image=<itkImagePython.itkImageF3; proxy o…"
      ]
     },
     "metadata": {},
     "output_type": "display_data"
    }
   ],
   "source": [
    "TTKImageMathType = ttk.ImageMath[ImageType,ImageType]\n",
    "\n",
    "imMath = TTKImageMathType.New(Input = outputImage)\n",
    "imMath.AddImages(im1, 2048, 1)\n",
    "combinedImage = imMath.GetOutput()\n",
    "view(combinedImage)"
   ]
  },
  {
   "cell_type": "code",
   "execution_count": null,
   "metadata": {},
   "outputs": [],
   "source": []
  }
 ],
 "metadata": {
  "kernelspec": {
   "display_name": "Python 3",
   "language": "python",
   "name": "python3"
  },
  "language_info": {
   "codemirror_mode": {
    "name": "ipython",
    "version": 3
   },
   "file_extension": ".py",
   "mimetype": "text/x-python",
   "name": "python",
   "nbconvert_exporter": "python",
   "pygments_lexer": "ipython3",
   "version": "3.7.6"
  }
 },
 "nbformat": 4,
 "nbformat_minor": 2
}
