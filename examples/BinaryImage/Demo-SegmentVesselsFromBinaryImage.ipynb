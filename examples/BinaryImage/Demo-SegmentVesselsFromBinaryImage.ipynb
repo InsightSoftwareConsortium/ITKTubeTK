{
 "cells": [
  {
   "cell_type": "markdown",
   "metadata": {},
   "source": [
    "This notebook is intended to demonstrate how vessel segmentation methods of ITKTubeTK can be applied to binary data."
   ]
  },
  {
   "cell_type": "code",
   "execution_count": 1,
   "metadata": {},
   "outputs": [],
   "source": [
    "import itk\n",
    "from itk import TubeTK as ttk\n",
    "\n",
    "from itkwidgets import view\n",
    "\n",
    "import numpy as np"
   ]
  },
  {
   "cell_type": "code",
   "execution_count": 4,
   "metadata": {},
   "outputs": [],
   "source": [
    "ImageType = itk.Image[itk.F, 3]\n",
    "\n",
    "im1 = itk.imread(\"../Data/Binary/DSA-Binary.mha\")\n",
    "resample = ttk.ResampleImage.New(Input=im1, MakeIsotropic=True)\n",
    "resample.Update()\n",
    "im1Iso = resample.GetOutput()"
   ]
  },
  {
   "cell_type": "code",
   "execution_count": 5,
   "metadata": {
    "scrolled": false
   },
   "outputs": [
    {
     "data": {
      "application/vnd.jupyter.widget-view+json": {
       "model_id": "41627bd8c98442c1982f7bcd8dbdd062",
       "version_major": 2,
       "version_minor": 0
      },
      "text/plain": [
       "Viewer(geometries=[], gradient_opacity=0.22, point_sets=[], rendered_image=<itk.itkImagePython.itkImageF3; pro…"
      ]
     },
     "metadata": {},
     "output_type": "display_data"
    }
   ],
   "source": [
    "imMath = ttk.ImageMath.New(im1Iso)\n",
    "imMath.Threshold(1,1,0,1)\n",
    "im1Inv = imMath.GetOutputFloat()\n",
    "distFilter = itk.DanielssonDistanceMapImageFilter.New(im1Inv)\n",
    "distFilter.SetUseImageSpacing(True)\n",
    "distFilter.SetInputIsBinary(True)\n",
    "distFilter.SetSquaredDistance(False)\n",
    "distFilter.Update()\n",
    "im1Dist = distFilter.GetOutput()\n",
    "\n",
    "view(im1Dist)"
   ]
  },
  {
   "cell_type": "code",
   "execution_count": 6,
   "metadata": {},
   "outputs": [],
   "source": [
    "numSeeds = 200\n",
    "\n",
    "vSeg = ttk.SegmentTubes.New(Input=im1Dist)\n",
    "#vSeg.SetVerbose(True)\n",
    "vSeg.SetMinCurvature(0.0)\n",
    "vSeg.SetMinRoundness(0.0)\n",
    "vSeg.SetMinRidgeness(0.9)\n",
    "vSeg.SetMinLevelness(0.0)\n",
    "vSeg.SetRadiusInObjectSpace( 0.4 )\n",
    "vSeg.SetSeedMask( im1Dist )\n",
    "vSeg.SetSeedRadiusMask( im1Dist )\n",
    "vSeg.SetOptimizeRadius(False)\n",
    "vSeg.SetUseSeedMaskAsProbabilities(True)\n",
    "vSeg.SetSeedExtractionMinimumProbability(0.4)\n",
    "#vSeg.SetSeedMaskMaximumNumberOfPoints( numSeeds )\n",
    "vSeg.ProcessSeeds()"
   ]
  },
  {
   "cell_type": "code",
   "execution_count": 7,
   "metadata": {
    "scrolled": false
   },
   "outputs": [
    {
     "data": {
      "application/vnd.jupyter.widget-view+json": {
       "model_id": "9e902552c9e647e3b83d96f1de1e482a",
       "version_major": 2,
       "version_minor": 0
      },
      "text/plain": [
       "Viewer(geometries=[], gradient_opacity=0.22, point_sets=[], rendered_image=<itk.itkImagePython.itkImageF3; pro…"
      ]
     },
     "metadata": {},
     "output_type": "display_data"
    }
   ],
   "source": [
    "tubeMaskImage = vSeg.GetTubeMaskImage()\n",
    "view(tubeMaskImage)"
   ]
  },
  {
   "cell_type": "code",
   "execution_count": 8,
   "metadata": {},
   "outputs": [],
   "source": [
    "SOWriter = itk.SpatialObjectWriter[3].New(vSeg.GetTubeGroup())\n",
    "SOWriter.SetFileName( \"BinaryImageVessels.tre\" )\n",
    "SOWriter.Update()"
   ]
  },
  {
   "cell_type": "code",
   "execution_count": null,
   "metadata": {},
   "outputs": [],
   "source": []
  }
 ],
 "metadata": {
  "kernelspec": {
   "display_name": "Python 3",
   "language": "python",
   "name": "python3"
  },
  "language_info": {
   "codemirror_mode": {
    "name": "ipython",
    "version": 3
   },
   "file_extension": ".py",
   "mimetype": "text/x-python",
   "name": "python",
   "nbconvert_exporter": "python",
   "pygments_lexer": "ipython3",
   "version": "3.7.6"
  }
 },
 "nbformat": 4,
 "nbformat_minor": 2
}
