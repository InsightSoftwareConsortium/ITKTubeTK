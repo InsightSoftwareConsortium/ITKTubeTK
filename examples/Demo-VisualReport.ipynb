{
 "cells": [
  {
   "cell_type": "code",
   "execution_count": 1,
   "metadata": {},
   "outputs": [],
   "source": [
    "import itk\n",
    "from itk import TubeTK as ttk\n",
    "\n",
    "import vtk\n",
    "\n",
    "from itkwidgets import view"
   ]
  },
  {
   "cell_type": "code",
   "execution_count": 2,
   "metadata": {},
   "outputs": [],
   "source": [
    "import ipywebrtc as webrtc\n",
    "\n",
    "from reportlab.pdfgen.canvas import Canvas"
   ]
  },
  {
   "cell_type": "code",
   "execution_count": 3,
   "metadata": {},
   "outputs": [
    {
     "ename": "TypeError",
     "evalue": "in method 'tubeWriteTubesAsPolyData_SetTubeInput', argument 2 of type 'itkTubeSpatialObject3 *'",
     "output_type": "error",
     "traceback": [
      "\u001b[1;31m---------------------------------------------------------------------------\u001b[0m",
      "\u001b[1;31mTypeError\u001b[0m                                 Traceback (most recent call last)",
      "\u001b[1;32m<ipython-input-3-c93172857397>\u001b[0m in \u001b[0;36m<module>\u001b[1;34m\u001b[0m\n\u001b[0;32m      6\u001b[0m \u001b[0mvtpFileName\u001b[0m \u001b[1;33m=\u001b[0m \u001b[1;34m\"Data/MRI-Normals/Normal003-VascularNetwork.vtp\"\u001b[0m\u001b[1;33m\u001b[0m\u001b[1;33m\u001b[0m\u001b[0m\n\u001b[0;32m      7\u001b[0m \u001b[0mvtpWriter\u001b[0m \u001b[1;33m=\u001b[0m \u001b[0mttk\u001b[0m\u001b[1;33m.\u001b[0m\u001b[0mWriteTubesAsPolyData\u001b[0m\u001b[1;33m.\u001b[0m\u001b[0mNew\u001b[0m\u001b[1;33m(\u001b[0m\u001b[1;33m)\u001b[0m\u001b[1;33m\u001b[0m\u001b[1;33m\u001b[0m\u001b[0m\n\u001b[1;32m----> 8\u001b[1;33m \u001b[0mvtpWriter\u001b[0m\u001b[1;33m.\u001b[0m\u001b[0mSetTubeInput\u001b[0m\u001b[1;33m(\u001b[0m\u001b[0mvess\u001b[0m\u001b[1;33m)\u001b[0m\u001b[1;33m\u001b[0m\u001b[1;33m\u001b[0m\u001b[0m\n\u001b[0m\u001b[0;32m      9\u001b[0m \u001b[0mvtpWriter\u001b[0m\u001b[1;33m.\u001b[0m\u001b[0mSetFilename\u001b[0m\u001b[1;33m(\u001b[0m\u001b[0mvtpFileName\u001b[0m\u001b[1;33m)\u001b[0m\u001b[1;33m\u001b[0m\u001b[1;33m\u001b[0m\u001b[0m\n\u001b[0;32m     10\u001b[0m \u001b[0mvtpWriter\u001b[0m\u001b[1;33m.\u001b[0m\u001b[0mUpdate\u001b[0m\u001b[1;33m(\u001b[0m\u001b[1;33m)\u001b[0m\u001b[1;33m\u001b[0m\u001b[1;33m\u001b[0m\u001b[0m\n",
      "\u001b[1;31mTypeError\u001b[0m: in method 'tubeWriteTubesAsPolyData_SetTubeInput', argument 2 of type 'itkTubeSpatialObject3 *'"
     ]
    }
   ],
   "source": [
    "soReader = itk.SpatialObjectReader[3].New()\n",
    "soReader.SetFileName(\"Data/MRI-Normals/Normal003-VascularNetwork.tre\")\n",
    "soReader.Update()\n",
    "vess = soReader.GetOutput()\n",
    "\n",
    "vtpFileName = \"Data/MRI-Normals/Normal003-VascularNetwork.vtp\"\n",
    "vtpWriter = ttk.WriteTubesAsPolyData.New()\n",
    "vtpWriter.SetTubeInput(vess)\n",
    "vtpWriter.SetFilename(vtpFileName)\n",
    "vtpWriter.Update()\n",
    "\n",
    "reader = vtk.vtkXMLPolyDataReader()\n",
    "reader.SetFileName(vtpFileName)\n",
    "reader.Update()\n",
    "vessVtp = reader.GetOutput()\n",
    "\n",
    "img = itk.imread(\"Data/MRI-Normals/Normal003-MRA.mha\", itk.F)"
   ]
  },
  {
   "cell_type": "code",
   "execution_count": null,
   "metadata": {},
   "outputs": [],
   "source": [
    "viewer = view(image=img, geometries=vessVtp, cmap=itkwidgets.cm.BuRd, annotations=False,\n",
    "              ui_collapsed=True, rotate=True)\n",
    "viewer"
   ]
  },
  {
   "cell_type": "code",
   "execution_count": null,
   "metadata": {},
   "outputs": [],
   "source": [
    "image_recorder = webrtc.ImageRecorder(stream=viewer, filename='Patient001.jpg', autosave=True)\n",
    "image_recorder"
   ]
  },
  {
   "cell_type": "code",
   "execution_count": null,
   "metadata": {},
   "outputs": [],
   "source": [
    "canvas = Canvas(\"report.pdf\",pagesize=letter)\n",
    "canvas.drawStringCentered(\"Patient001\", 4.25 * inch, 10 * inch)\n",
    "canvas.drawImage(\"Patient001.jpg\", 4*inch, 5*inch, width=2*inch)\n",
    "canvas.showPage()\n",
    "canvas.save()"
   ]
  }
 ],
 "metadata": {
  "kernelspec": {
   "display_name": "Python 3",
   "language": "python",
   "name": "python3"
  },
  "language_info": {
   "codemirror_mode": {
    "name": "ipython",
    "version": 3
   },
   "file_extension": ".py",
   "mimetype": "text/x-python",
   "name": "python",
   "nbconvert_exporter": "python",
   "pygments_lexer": "ipython3",
   "version": "3.7.6"
  }
 },
 "nbformat": 4,
 "nbformat_minor": 4
}
