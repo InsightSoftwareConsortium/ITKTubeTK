{
 "cells": [
  {
   "cell_type": "markdown",
   "metadata": {},
   "source": [
    "This notebook is intended to demonstrate how select registration, segmentation, and image mathematical methods of ITKTubeTK can be combined to perform multi-channel brain extraction (aka. skull stripping for patient data containing multiple MRI sequences).\n",
    "\n",
    "There are many other (probably more effective) brain extraction methods available as open-source software such as BET and BET2 in the FSL package (albeit such methods are only for single channel data).   If you need to perform brain extraction for a large collection of scans that do not contain major pathologies, please use one of those packages.   This notebook is meant to show off the capabilities of specific ITKTubeTK methods, not to demonstration how to \"solve\" brain extraction."
   ]
  },
  {
   "cell_type": "code",
   "execution_count": 1,
   "metadata": {},
   "outputs": [],
   "source": [
    "import itk\n",
    "from itk import TubeTK as ttk\n",
    "\n",
    "from itkwidgets import view\n",
    "\n",
    "import numpy as np\n",
    "import time"
   ]
  },
  {
   "cell_type": "code",
   "execution_count": 2,
   "metadata": {},
   "outputs": [],
   "source": [
    "ImageType = itk.Image[itk.F, 3]\n",
    "\n",
    "ReaderType = itk.ImageFileReader[ImageType]\n",
    "\n",
    "InputBaseName = \"../Data/CTA-Head/CTA\"\n",
    "\n",
    "filename = InputBaseName + \".mha\"\n",
    "reader1 = ReaderType.New(FileName=filename)\n",
    "reader1.Update()\n",
    "im1 = reader1.GetOutput()"
   ]
  },
  {
   "cell_type": "code",
   "execution_count": 3,
   "metadata": {},
   "outputs": [],
   "source": [
    "im1iso = im1\n",
    "\n",
    "# Our example data is already in isotropic voxels (has the same voxel spacing in every dimension).\n",
    "# So, we simply set im1iso = im.  Otherwise, if your data is not isotropic, \n",
    "# you should include the following commands:\n",
    "\n",
    "#resamp = ttk.ResampleImage[ImageType].New(Input = im1)\n",
    "#resamp.SetMakeHighResIso(True)\n",
    "#resamp.Update()\n",
    "#im1iso = resamp.GetOutput()\n",
    "\n",
    "#filename = InputBaseName + \"-Iso.mha\"\n",
    "#itk.imwrite(im1iso, filename)"
   ]
  },
  {
   "cell_type": "markdown",
   "metadata": {},
   "source": [
    "Here we are performing multi-atlas segmentation.  We will read 8 MRI image for which we\n",
    "already segmented the brain (brain segmentation is much easier for MRI FLASH images).\n",
    "\n",
    "Those 8 MRI will be registered with the new patient, and their brain masks will be used to\n",
    "vote for an intial segmentation of the brain from the new patient.   That initial segmentation\n",
    "will then be refined using a multi-channel connected components method - but for CTA we only\n",
    "have one channel.\n",
    "\n",
    "Again, there are better ways to segment brains from CTA.  This method is very slow, but it works..."
   ]
  },
  {
   "cell_type": "code",
   "execution_count": 4,
   "metadata": {
    "scrolled": true
   },
   "outputs": [
    {
     "data": {
      "application/vnd.jupyter.widget-view+json": {
       "model_id": "af91b18cffc34db3a55b563642e42a90",
       "version_major": 2,
       "version_minor": 0
      },
      "text/plain": [
       "Viewer(geometries=[], gradient_opacity=0.22, point_sets=[], rendered_image=<itk.itkImagePython.itkImageF3; pro…"
      ]
     },
     "metadata": {},
     "output_type": "display_data"
    }
   ],
   "source": [
    "view(im1iso)"
   ]
  },
  {
   "cell_type": "code",
   "execution_count": 5,
   "metadata": {
    "scrolled": true
   },
   "outputs": [
    {
     "data": {
      "application/vnd.jupyter.widget-view+json": {
       "model_id": "bdbcd1dab6d440709bc3b63f3669831c",
       "version_major": 2,
       "version_minor": 0
      },
      "text/plain": [
       "Viewer(geometries=[], gradient_opacity=0.22, point_sets=[], rendered_image=<itk.itkImagePython.itkImageUC3; pr…"
      ]
     },
     "metadata": {},
     "output_type": "display_data"
    }
   ],
   "source": [
    "# Here we perform an initial segmentation of the skull using simple thresholding.  This is possible\n",
    "# because of the standardization of CT to Hounsfield units.\n",
    "\n",
    "thresh = ttk.ImageMath.New(Input=im1iso)\n",
    "thresh.ReplaceValuesOutsideMaskRange(im1iso,1,6000,0)\n",
    "thresh.ReplaceValuesOutsideMaskRange(im1iso,0,600,1)\n",
    "im1tmp = thresh.GetOutput()\n",
    "thresh.ReplaceValuesOutsideMaskRange(im1tmp,0,1,2)\n",
    "im1Mask = thresh.GetOutputUChar()\n",
    "view(im1Mask)"
   ]
  },
  {
   "cell_type": "code",
   "execution_count": 6,
   "metadata": {},
   "outputs": [],
   "source": [
    "# We then dilate and erode the mask to determine regions of high confidence of brain and not-brain\n",
    "# in the CTA\n",
    "\n",
    "maskMath = ttk.ImageMath.New(Input=im1Mask)\n",
    "maskMath.Threshold(0,1,0,1)\n",
    "maskMath.Erode(15,1,0)\n",
    "maskMath.Dilate(17,1,0)\n",
    "maskMath.Dilate(12,0,1)\n",
    "maskMath.Erode(12,1,0)\n",
    "brainSeed = maskMath.GetOutputUChar()\n",
    "maskMath.SetInput(im1Mask)\n",
    "maskMath.Threshold(2,2,0,1)\n",
    "maskMath.Erode(2,1,0)\n",
    "maskMath.Dilate(10,1,0)\n",
    "maskMath.Erode(7,1,0)\n",
    "skullSeed = maskMath.GetOutputUChar()\n",
    "maskMath.AddImages(brainSeed,1,2)\n",
    "comboSeed = maskMath.GetOutputUChar()"
   ]
  },
  {
   "cell_type": "code",
   "execution_count": 7,
   "metadata": {},
   "outputs": [
    {
     "data": {
      "application/vnd.jupyter.widget-view+json": {
       "model_id": "5e564f06d19c437b82edaf800e9756e3",
       "version_major": 2,
       "version_minor": 0
      },
      "text/plain": [
       "Viewer(geometries=[], gradient_opacity=0.22, point_sets=[], rendered_image=<itk.itkImagePython.itkImageUC3; pr…"
      ]
     },
     "metadata": {},
     "output_type": "display_data"
    }
   ],
   "source": [
    "view(comboSeed)"
   ]
  },
  {
   "cell_type": "code",
   "execution_count": 8,
   "metadata": {},
   "outputs": [],
   "source": [
    "# Finally, given the regions of high confidence, we run a probabilistic connected components\n",
    "#  to determine the brain region of the CTA\n",
    "LabelMapType = itk.Image[itk.UC,3]\n",
    "\n",
    "segmenter = ttk.SegmentConnectedComponentsUsingParzenPDFs[ImageType,LabelMapType].New()\n",
    "segmenter.SetFeatureImage( im1iso )\n",
    "segmenter.SetInputLabelMap( comboSeed )\n",
    "segmenter.SetObjectId( 2 )\n",
    "segmenter.AddObjectId( 1 )\n",
    "segmenter.SetVoidId( 0 )\n",
    "segmenter.SetErodeDilateRadius( 20 )\n",
    "segmenter.SetHoleFillIterations( 40 )\n",
    "segmenter.Update()\n",
    "segmenter.ClassifyImages()\n",
    "brainMaskRaw = segmenter.GetOutputLabelMap()"
   ]
  },
  {
   "cell_type": "code",
   "execution_count": 9,
   "metadata": {
    "scrolled": false
   },
   "outputs": [
    {
     "data": {
      "application/vnd.jupyter.widget-view+json": {
       "model_id": "aa3d1ff3e3fc47f3b965b40387f4fbdc",
       "version_major": 2,
       "version_minor": 0
      },
      "text/plain": [
       "Viewer(geometries=[], gradient_opacity=0.22, point_sets=[], rendered_image=<itk.itkImagePython.itkImageUC3; pr…"
      ]
     },
     "metadata": {},
     "output_type": "display_data"
    }
   ],
   "source": [
    "view(brainMaskRaw)"
   ]
  },
  {
   "cell_type": "code",
   "execution_count": 16,
   "metadata": {},
   "outputs": [],
   "source": [
    "maskMath.SetInput(brainMaskRaw)\n",
    "maskMath.Threshold(2,2,1,0)\n",
    "maskMath.Erode(1,1,0)\n",
    "brainMaskRaw2 = maskMath.GetOutputUChar()\n",
    "\n",
    "connComp = ttk.SegmentConnectedComponents.New(Input=brainMaskRaw2)\n",
    "connComp.SetKeepOnlyLargestComponent(True)\n",
    "connComp.Update()\n",
    "brainMask = connComp.GetOutput()"
   ]
  },
  {
   "cell_type": "code",
   "execution_count": 17,
   "metadata": {},
   "outputs": [
    {
     "data": {
      "application/vnd.jupyter.widget-view+json": {
       "model_id": "12f1c253f3164f24b4ea0ff7e89dbcd1",
       "version_major": 2,
       "version_minor": 0
      },
      "text/plain": [
       "Viewer(geometries=[], gradient_opacity=0.22, point_sets=[], rendered_image=<itk.itkImagePython.itkImageUC3; pr…"
      ]
     },
     "metadata": {},
     "output_type": "display_data"
    }
   ],
   "source": [
    "view(brainMask)"
   ]
  },
  {
   "cell_type": "code",
   "execution_count": 18,
   "metadata": {},
   "outputs": [],
   "source": [
    "# Then we mask the CTA - creating a CTA-Brain only image\n",
    "\n",
    "cast = itk.CastImageFilter[LabelMapType, ImageType].New()\n",
    "cast.SetInput(brainMask)\n",
    "cast.Update()\n",
    "brainMaskF = cast.GetOutput()\n",
    "\n",
    "brainMath = ttk.ImageMath[ImageType,ImageType].New(Input = im1iso)\n",
    "brainMath.ReplaceValuesOutsideMaskRange( brainMaskF, 1, 1, 0)\n",
    "brain = brainMath.GetOutput()"
   ]
  },
  {
   "cell_type": "code",
   "execution_count": 19,
   "metadata": {
    "scrolled": false
   },
   "outputs": [
    {
     "data": {
      "application/vnd.jupyter.widget-view+json": {
       "model_id": "38cefd0f31d4476eae302e484c1275fe",
       "version_major": 2,
       "version_minor": 0
      },
      "text/plain": [
       "Viewer(geometries=[], gradient_opacity=0.22, point_sets=[], rendered_image=<itk.itkImagePython.itkImageF3; pro…"
      ]
     },
     "metadata": {},
     "output_type": "display_data"
    }
   ],
   "source": [
    "view(brain)"
   ]
  },
  {
   "cell_type": "code",
   "execution_count": 20,
   "metadata": {},
   "outputs": [],
   "source": [
    "writer = itk.ImageFileWriter[ImageType].New(Input = brain)\n",
    "filename = InputBaseName + \"-Brain.mha\"\n",
    "writer.SetFileName(filename)\n",
    "writer.Update()"
   ]
  },
  {
   "cell_type": "code",
   "execution_count": null,
   "metadata": {},
   "outputs": [],
   "source": []
  }
 ],
 "metadata": {
  "kernelspec": {
   "display_name": "Python 3",
   "language": "python",
   "name": "python3"
  },
  "language_info": {
   "codemirror_mode": {
    "name": "ipython",
    "version": 3
   },
   "file_extension": ".py",
   "mimetype": "text/x-python",
   "name": "python",
   "nbconvert_exporter": "python",
   "pygments_lexer": "ipython3",
   "version": "3.7.10"
  }
 },
 "nbformat": 4,
 "nbformat_minor": 2
}
