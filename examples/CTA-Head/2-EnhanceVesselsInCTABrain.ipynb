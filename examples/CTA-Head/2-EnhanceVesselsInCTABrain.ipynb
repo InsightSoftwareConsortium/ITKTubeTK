{
 "cells": [
  {
   "cell_type": "markdown",
   "metadata": {},
   "source": [
    "This notebook is intended to demonstrate how to extract vessels from a CTA image that contains only brain data (skull has been stripped)."
   ]
  },
  {
   "cell_type": "code",
   "execution_count": 1,
   "metadata": {},
   "outputs": [],
   "source": [
    "import itk\n",
    "from itk import TubeTK as ttk\n",
    "\n",
    "from itkwidgets import view\n",
    "\n",
    "import numpy as np"
   ]
  },
  {
   "cell_type": "code",
   "execution_count": 2,
   "metadata": {},
   "outputs": [],
   "source": [
    "InputBaseDir = \"../Data/CTA-Head/\"\n",
    "\n",
    "CTAFilename = InputBaseDir + \"CTA.mha\"\n",
    "CTABrainFilename = InputBaseDir + \"CTA-Brain.mha\"\n",
    "\n",
    "imMax = itk.imread(CTAFilename, itk.F)\n",
    "imBrain = itk.imread(CTABrainFilename, itk.F)"
   ]
  },
  {
   "cell_type": "code",
   "execution_count": 3,
   "metadata": {},
   "outputs": [
    {
     "data": {
      "application/vnd.jupyter.widget-view+json": {
       "model_id": "30d041c59a4e410681e03de328ec857e",
       "version_major": 2,
       "version_minor": 0
      },
      "text/plain": [
       "Viewer(geometries=[], gradient_opacity=0.22, point_sets=[], rendered_image=<itk.itkImagePython.itkImageF3; pro…"
      ]
     },
     "metadata": {},
     "output_type": "display_data"
    }
   ],
   "source": [
    "view(imBrain)"
   ]
  },
  {
   "cell_type": "code",
   "execution_count": 4,
   "metadata": {},
   "outputs": [],
   "source": [
    "ImageType = itk.Image[itk.F, 3]\n",
    "\n",
    "imMath = ttk.ImageMath.New(Input=imBrain)\n",
    "imMath.Threshold( 0.00001, 4000, 1, 0)\n",
    "imMath.Erode(10,1,0)\n",
    "imBrainMaskErode = imMath.GetOutput()\n",
    "imMath.SetInput(imBrain)\n",
    "imMath.IntensityWindow(0,300,0,300)\n",
    "imMath.ReplaceValuesOutsideMaskRange(imBrainMaskErode,0.5,1.5,0)\n",
    "imBrainErode = imMath.GetOutput()"
   ]
  },
  {
   "cell_type": "code",
   "execution_count": 5,
   "metadata": {},
   "outputs": [
    {
     "data": {
      "application/vnd.jupyter.widget-view+json": {
       "model_id": "31d2ef1e04ca48ab93dd637087213cfb",
       "version_major": 2,
       "version_minor": 0
      },
      "text/plain": [
       "Viewer(geometries=[], gradient_opacity=0.22, point_sets=[], rendered_image=<itk.itkImagePython.itkImageF3; pro…"
      ]
     },
     "metadata": {},
     "output_type": "display_data"
    }
   ],
   "source": [
    "view(imBrainErode)"
   ]
  },
  {
   "cell_type": "code",
   "execution_count": 6,
   "metadata": {
    "scrolled": true
   },
   "outputs": [
    {
     "name": "stdout",
     "output_type": "stream",
     "text": [
      "[[  23.97288513 -158.18325806  302.26499939]\n",
      " [  -4.23602295 -146.56782532  298.39318848]\n",
      " [ -33.55116272 -160.94883728  299.49942017]\n",
      " [ -25.80754089 -144.90847778  278.48101807]\n",
      " [ -52.35710144 -207.41056824  296.73384094]\n",
      " [   0.74201965 -167.03311157  264.1000061 ]\n",
      " [ -48.48529053 -193.02955627  305.03057861]\n",
      " [ -45.16659546 -175.88296509  317.75224304]\n",
      " [  -5.34225464 -133.29304504  307.24304199]\n",
      " [ -58.44137573 -155.97079468  292.86203003]\n",
      " [  -6.44848633 -155.41767883  264.1000061 ]\n",
      " [ -43.50724792 -140.48355103  327.70832825]\n",
      " [  26.18534851 -133.29304504  285.1184082 ]\n",
      " [ -46.82594299 -157.63014221  276.82167053]\n",
      " [ -18.61703491 -128.86811829  290.64956665]]\n"
     ]
    }
   ],
   "source": [
    "imMath = ttk.ImageMath[ImageType,ImageType].New()\n",
    "imMath.SetInput(imBrainErode)\n",
    "imMath.Blur(1.5)\n",
    "imBlur = imMath.GetOutput()\n",
    "imBlurArray = itk.GetArrayViewFromImage(imBlur)\n",
    "\n",
    "numSeeds = 15\n",
    "seedCoverage = 20\n",
    "seedCoord = np.zeros([numSeeds,3])\n",
    "for i in range(numSeeds):\n",
    "    seedCoord[i] = np.unravel_index(np.argmax(imBlurArray, axis=None), imBlurArray.shape)\n",
    "    indx = [int(seedCoord[i][0]),int(seedCoord[i][1]),int(seedCoord[i][2])]\n",
    "    minX = max(indx[0]-seedCoverage,0)\n",
    "    maxX = max(indx[0]+seedCoverage,imBlurArray.shape[0])\n",
    "    minY = max(indx[1]-seedCoverage,0)\n",
    "    maxY = max(indx[1]+seedCoverage,imBlurArray.shape[1])\n",
    "    minZ = max(indx[2]-seedCoverage,0)\n",
    "    maxZ = max(indx[2]+seedCoverage,imBlurArray.shape[2])\n",
    "    imBlurArray[minX:maxX,minY:maxY,minZ:maxZ]=0\n",
    "    indx.reverse()\n",
    "    seedCoord[:][i] = imBrain.TransformIndexToPhysicalPoint(indx)\n",
    "print(seedCoord)"
   ]
  },
  {
   "cell_type": "code",
   "execution_count": 7,
   "metadata": {},
   "outputs": [
    {
     "name": "stdout",
     "output_type": "stream",
     "text": [
      "**** Processing seed 0 : [  23.97288513 -158.18325806  302.26499939]\n",
      "**** Processing seed 1 : [  -4.23602295 -146.56782532  298.39318848]\n",
      "**** Processing seed 2 : [ -33.55116272 -160.94883728  299.49942017]\n",
      "**** Processing seed 3 : [ -25.80754089 -144.90847778  278.48101807]\n",
      "**** Processing seed 4 : [ -52.35710144 -207.41056824  296.73384094]\n",
      "**** Processing seed 5 : [   0.74201965 -167.03311157  264.1000061 ]\n",
      "**** Processing seed 6 : [ -48.48529053 -193.02955627  305.03057861]\n",
      "**** Processing seed 7 : [ -45.16659546 -175.88296509  317.75224304]\n",
      "**** Processing seed 8 : [  -5.34225464 -133.29304504  307.24304199]\n",
      "**** Processing seed 9 : [ -58.44137573 -155.97079468  292.86203003]\n",
      "**** Processing seed 10 : [  -6.44848633 -155.41767883  264.1000061 ]\n",
      "**** Processing seed 11 : [ -43.50724792 -140.48355103  327.70832825]\n",
      "**** Processing seed 12 : [  26.18534851 -133.29304504  285.1184082 ]\n",
      "**** Processing seed 13 : [ -46.82594299 -157.63014221  276.82167053]\n",
      "**** Processing seed 14 : [ -18.61703491 -128.86811829  290.64956665]\n"
     ]
    }
   ],
   "source": [
    "# Manually extract a few vessels to form an image-specific training set\n",
    "vSeg = ttk.SegmentTubes.New(Input=imBrain)\n",
    "vSeg.SetVerbose(True)\n",
    "vSeg.SetMinRoundness(0.4)\n",
    "vSeg.SetMinCurvature(0.002)\n",
    "vSeg.SetRadiusInObjectSpace( 1 )\n",
    "for i in range(numSeeds):\n",
    "    print(\"**** Processing seed \" + str(i) + \" : \" + str(seedCoord[i]))\n",
    "    vSeg.ExtractTubeInObjectSpace( seedCoord[i], i )\n",
    "    \n",
    "tubeMaskImage = vSeg.GetTubeMaskImage()"
   ]
  },
  {
   "cell_type": "code",
   "execution_count": 8,
   "metadata": {},
   "outputs": [
    {
     "data": {
      "application/vnd.jupyter.widget-view+json": {
       "model_id": "60b2907437ec481c8997ff36c11eaae1",
       "version_major": 2,
       "version_minor": 0
      },
      "text/plain": [
       "Viewer(geometries=[], gradient_opacity=0.22, point_sets=[], rendered_image=<itk.itkImagePython.itkImageF3; pro…"
      ]
     },
     "metadata": {},
     "output_type": "display_data"
    }
   ],
   "source": [
    "imMath.SetInput(tubeMaskImage)\n",
    "imMath.AddImages(imBrain, 200, 1)\n",
    "blendIm = imMath.GetOutput()\n",
    "view(blendIm)"
   ]
  },
  {
   "cell_type": "code",
   "execution_count": 9,
   "metadata": {},
   "outputs": [],
   "source": [
    "LabelMapType = itk.Image[itk.UC,3]\n",
    "\n",
    "trMask = ttk.ComputeTrainingMask[ImageType,LabelMapType].New()\n",
    "trMask.SetInput( tubeMaskImage )\n",
    "trMask.SetGap( 4 )\n",
    "trMask.SetObjectWidth( 1 )\n",
    "trMask.SetNotObjectWidth( 1 )\n",
    "trMask.Update()\n",
    "fgMask = trMask.GetOutput()"
   ]
  },
  {
   "cell_type": "code",
   "execution_count": 10,
   "metadata": {},
   "outputs": [
    {
     "data": {
      "application/vnd.jupyter.widget-view+json": {
       "model_id": "a137e6249ca847988878bf8144a4521d",
       "version_major": 2,
       "version_minor": 0
      },
      "text/plain": [
       "Viewer(geometries=[], gradient_opacity=0.22, point_sets=[], rendered_image=<itk.itkImagePython.itkImageUC3; pr…"
      ]
     },
     "metadata": {},
     "output_type": "display_data"
    }
   ],
   "source": [
    "view(fgMask)"
   ]
  },
  {
   "cell_type": "code",
   "execution_count": 11,
   "metadata": {},
   "outputs": [],
   "source": [
    "enhancer = ttk.EnhanceTubesUsingDiscriminantAnalysis[ImageType,LabelMapType].New()\n",
    "enhancer.AddInput( imMax )\n",
    "enhancer.SetLabelMap( fgMask )\n",
    "enhancer.SetRidgeId( 255 )\n",
    "enhancer.SetBackgroundId( 128 )\n",
    "enhancer.SetUnknownId( 0 )\n",
    "enhancer.SetTrainClassifier(True)\n",
    "enhancer.SetUseIntensityOnly(True)\n",
    "enhancer.SetScales([0.43,1.29,3.01])\n",
    "enhancer.Update()\n",
    "enhancer.ClassifyImages()"
   ]
  },
  {
   "cell_type": "code",
   "execution_count": 12,
   "metadata": {
    "scrolled": true
   },
   "outputs": [
    {
     "data": {
      "application/vnd.jupyter.widget-view+json": {
       "model_id": "20db6151388f4bbcba8771949085d00f",
       "version_major": 2,
       "version_minor": 0
      },
      "text/plain": [
       "Viewer(geometries=[], gradient_opacity=0.22, point_sets=[], rendered_image=<itk.itkImagePython.itkImageF3; pro…"
      ]
     },
     "metadata": {},
     "output_type": "display_data"
    }
   ],
   "source": [
    "im1vess = itk.SubtractImageFilter( Input1=enhancer.GetClassProbabilityImage(0), Input2=enhancer.GetClassProbabilityImage(1))\n",
    "\n",
    "imMath.SetInput(imBrain)\n",
    "imMath.Threshold(0.0001,2000,1,0)\n",
    "imMath.Erode(2,1,0)\n",
    "imBrainE = imMath.GetOutput()\n",
    "\n",
    "imMath.SetInput(im1vess)\n",
    "imMath.ReplaceValuesOutsideMaskRange(imBrainE, 1, 1, -0.001)\n",
    "im1vessBrain = imMath.GetOutput()\n",
    "#view(enhancer.GetClassProbabilityImage(0))\n",
    "view(im1vessBrain)"
   ]
  },
  {
   "cell_type": "code",
   "execution_count": 13,
   "metadata": {},
   "outputs": [],
   "source": [
    "itk.imwrite( im1vess, InputBaseDir + \"CTA-VesselEnhanced.mha\", compression=True)\n",
    "\n",
    "itk.imwrite( im1vessBrain, InputBaseDir + \"CTA-Brain-VesselEnhanced.mha\", compression=True)"
   ]
  },
  {
   "cell_type": "code",
   "execution_count": null,
   "metadata": {},
   "outputs": [],
   "source": []
  }
 ],
 "metadata": {
  "kernelspec": {
   "display_name": "Python 3",
   "language": "python",
   "name": "python3"
  },
  "language_info": {
   "codemirror_mode": {
    "name": "ipython",
    "version": 3
   },
   "file_extension": ".py",
   "mimetype": "text/x-python",
   "name": "python",
   "nbconvert_exporter": "python",
   "pygments_lexer": "ipython3",
   "version": "3.7.10"
  }
 },
 "nbformat": 4,
 "nbformat_minor": 2
}
